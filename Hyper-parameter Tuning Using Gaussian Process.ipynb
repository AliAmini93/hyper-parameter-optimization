{
  "nbformat": 4,
  "nbformat_minor": 0,
  "metadata": {
    "colab": {
      "provenance": []
    },
    "kernelspec": {
      "name": "python3",
      "display_name": "Python 3"
    },
    "language_info": {
      "name": "python"
    },
    "accelerator": "GPU",
    "gpuClass": "standard"
  },
  "cells": [
    {
      "cell_type": "markdown",
      "source": [
        "**Changing the directory**"
      ],
      "metadata": {
        "id": "z95WMSwSA10a"
      }
    },
    {
      "cell_type": "code",
      "execution_count": null,
      "metadata": {
        "colab": {
          "base_uri": "https://localhost:8080/"
        },
        "id": "PUdbtrCci6Hl",
        "outputId": "5cec64b5-a5df-41b4-fc7c-d05b0ef67186"
      },
      "outputs": [
        {
          "output_type": "stream",
          "name": "stdout",
          "text": [
            "/content/drive/MyDrive/NasrAbadi/EEG Time Series /Four Sec without Overlap/With Baseline/Simple Train Test Split\n"
          ]
        }
      ],
      "source": [
        "cd '/content/drive/MyDrive/NasrAbadi/EEG Time Series /Four Sec without Overlap/With Baseline/Simple Train Test Split'"
      ]
    },
    {
      "cell_type": "markdown",
      "source": [
        "**Installing Required Packages**"
      ],
      "metadata": {
        "id": "OdmxZ6kpA6Ae"
      }
    },
    {
      "cell_type": "code",
      "source": [
        "!pip install scikit-optimize\n",
        "!pip install pyriemann"
      ],
      "metadata": {
        "colab": {
          "base_uri": "https://localhost:8080/"
        },
        "id": "3K-PC2L6jpnk",
        "outputId": "65e03df3-7294-480b-c8cc-cbd8fc887c0f"
      },
      "execution_count": null,
      "outputs": [
        {
          "output_type": "stream",
          "name": "stdout",
          "text": [
            "Looking in indexes: https://pypi.org/simple, https://us-python.pkg.dev/colab-wheels/public/simple/\n",
            "Requirement already satisfied: scikit-optimize in /usr/local/lib/python3.8/dist-packages (0.9.0)\n",
            "Requirement already satisfied: scikit-learn>=0.20.0 in /usr/local/lib/python3.8/dist-packages (from scikit-optimize) (1.0.2)\n",
            "Requirement already satisfied: numpy>=1.13.3 in /usr/local/lib/python3.8/dist-packages (from scikit-optimize) (1.21.6)\n",
            "Requirement already satisfied: pyaml>=16.9 in /usr/local/lib/python3.8/dist-packages (from scikit-optimize) (21.10.1)\n",
            "Requirement already satisfied: joblib>=0.11 in /usr/local/lib/python3.8/dist-packages (from scikit-optimize) (1.2.0)\n",
            "Requirement already satisfied: scipy>=0.19.1 in /usr/local/lib/python3.8/dist-packages (from scikit-optimize) (1.7.3)\n",
            "Requirement already satisfied: PyYAML in /usr/local/lib/python3.8/dist-packages (from pyaml>=16.9->scikit-optimize) (6.0)\n",
            "Requirement already satisfied: threadpoolctl>=2.0.0 in /usr/local/lib/python3.8/dist-packages (from scikit-learn>=0.20.0->scikit-optimize) (3.1.0)\n",
            "Looking in indexes: https://pypi.org/simple, https://us-python.pkg.dev/colab-wheels/public/simple/\n",
            "Requirement already satisfied: pyriemann in /usr/local/lib/python3.8/dist-packages (0.3)\n",
            "Requirement already satisfied: scikit-learn in /usr/local/lib/python3.8/dist-packages (from pyriemann) (1.0.2)\n",
            "Requirement already satisfied: scipy in /usr/local/lib/python3.8/dist-packages (from pyriemann) (1.7.3)\n",
            "Requirement already satisfied: numpy in /usr/local/lib/python3.8/dist-packages (from pyriemann) (1.21.6)\n",
            "Requirement already satisfied: pandas in /usr/local/lib/python3.8/dist-packages (from pyriemann) (1.3.5)\n",
            "Requirement already satisfied: joblib in /usr/local/lib/python3.8/dist-packages (from pyriemann) (1.2.0)\n",
            "Requirement already satisfied: pytz>=2017.3 in /usr/local/lib/python3.8/dist-packages (from pandas->pyriemann) (2022.7)\n",
            "Requirement already satisfied: python-dateutil>=2.7.3 in /usr/local/lib/python3.8/dist-packages (from pandas->pyriemann) (2.8.2)\n",
            "Requirement already satisfied: threadpoolctl>=2.0.0 in /usr/local/lib/python3.8/dist-packages (from scikit-learn->pyriemann) (3.1.0)\n",
            "Requirement already satisfied: six>=1.5 in /usr/local/lib/python3.8/dist-packages (from python-dateutil>=2.7.3->pandas->pyriemann) (1.15.0)\n"
          ]
        }
      ]
    },
    {
      "cell_type": "markdown",
      "source": [
        "**Change the channels to first**"
      ],
      "metadata": {
        "id": "mPmUqJbxBAhQ"
      }
    },
    {
      "cell_type": "code",
      "source": [
        "from tensorflow.keras import backend as K\n",
        "K.set_image_data_format('channels_first')"
      ],
      "metadata": {
        "id": "Jmnjkxevjrmr"
      },
      "execution_count": null,
      "outputs": []
    },
    {
      "cell_type": "markdown",
      "source": [
        "**Building the Model**"
      ],
      "metadata": {
        "id": "LDax-Ln0BCrQ"
      }
    },
    {
      "cell_type": "code",
      "source": [
        "from sklearn.utils.class_weight import compute_class_weight\n",
        "from tensorflow.keras import utils as np_utils\n",
        "from sklearn.model_selection import StratifiedGroupKFold, GridSearchCV\n",
        "from tensorflow.keras.models import Model\n",
        "from tensorflow.keras.layers import Dense, Activation, Permute, Dropout, multiply,LSTM\n",
        "from tensorflow.keras.layers import Conv2D, MaxPooling2D, AveragePooling2D\n",
        "from tensorflow.keras.layers import SeparableConv2D, DepthwiseConv2D\n",
        "from tensorflow.keras.layers import BatchNormalization\n",
        "from tensorflow.keras.layers import SpatialDropout2D\n",
        "from tensorflow.keras.regularizers import l1_l2\n",
        "from tensorflow.keras.layers import Input, Flatten\n",
        "from tensorflow.keras.constraints import max_norm\n",
        "from tensorflow.keras import backend as K\n",
        "from keras.callbacks import EarlyStopping\n",
        "from keras.callbacks import ModelCheckpoint\n",
        "from tensorflow.keras.callbacks import ReduceLROnPlateau\n",
        "from keras.callbacks import LearningRateScheduler\n",
        "from tensorflow.keras.optimizers import Adam, Adamax\n",
        "from tensorflow.keras.optimizers.experimental import AdamW\n",
        "from tensorflow.keras.layers import concatenate\n",
        "from tensorflow.keras.layers import GlobalAveragePooling2D\n",
        "from keras.models import load_model\n",
        "import matplotlib.pyplot as plt\n",
        "from sklearn.metrics import fbeta_score\n",
        "import math\n",
        "import gc\n",
        "from numpy import mean\n",
        "from numpy import std\n",
        "from skopt import BayesSearchCV\n",
        "from skopt.space import Real, Categorical, Integer\n",
        "from sklearn.model_selection import cross_val_score\n",
        "from skopt.utils import use_named_args\n",
        "from skopt import gp_minimize\n",
        "import tensorflow as tf\n",
        "import numpy as np\n",
        "\n",
        "def create_model(kernelLength = 32, nb_classes = 2, Chans = 19, Samples = 512,   \n",
        "                dropoutRate = 0.5 , F1 = 8, D = 2, F2 = 16, norm_rate = 0.25,\n",
        "                dropoutType = 'Dropout', optimizer_type = 'Adam', lr=0.0005, **kwargs):\n",
        "  \n",
        "  K.clear_session()\n",
        "  gc.collect()\n",
        "  if dropoutType == 'SpatialDropout2D':\n",
        "      dropoutType = SpatialDropout2D\n",
        "  elif dropoutType == 'Dropout':\n",
        "      dropoutType = Dropout\n",
        "  else:\n",
        "      raise ValueError('dropoutType must be one of SpatialDropout2D '\n",
        "                        'or Dropout, passed as a string.')\n",
        "  \n",
        "  input1   = Input(shape = (1, Chans, Samples))\n",
        "\n",
        "  ##################################################################\n",
        "  block1       = Conv2D(F1, (1, kernelLength), padding = 'same',\n",
        "                                  input_shape = (1, Chans, Samples),\n",
        "                                  use_bias = False)(input1)\n",
        "  block1       = BatchNormalization(axis = 1)(block1)\n",
        "  block1       = DepthwiseConv2D((Chans, 1), use_bias = False, \n",
        "                                  depth_multiplier = D,\n",
        "                                  depthwise_constraint = max_norm(1.))(block1)\n",
        "  block1       = BatchNormalization(axis = 1)(block1)\n",
        "  block1       = Activation('elu')(block1)\n",
        "  block1       = AveragePooling2D((1, 4))(block1)\n",
        "  block1       = dropoutType(dropoutRate)(block1)\n",
        "  \n",
        "  block2       = SeparableConv2D(F2, (1, 16),\n",
        "                                  use_bias = False, padding = 'same')(block1)\n",
        "  block2       = BatchNormalization(axis = 1)(block2)\n",
        "  block2       = Activation('elu')(block2)\n",
        "  block2       = AveragePooling2D((1, 8))(block2)\n",
        "  block2       = dropoutType(dropoutRate)(block2)\n",
        "      \n",
        "  flatten      = Flatten(name = 'flatten')(block2)\n",
        "  \n",
        "  dense        = Dense(nb_classes, name = 'dense', \n",
        "                        kernel_constraint = max_norm(norm_rate))(flatten)\n",
        "  softmax      = Activation('softmax', name = 'softmax')(dense)\n",
        "  \n",
        "  model        = Model(inputs=input1, outputs=softmax)\n",
        "  if optimizer_type == 'Adam':\n",
        "    optimizer = Adam(learning_rate = lr)\n",
        "  if optimizer_type == 'Adamax':\n",
        "    optimizer = Adamax(learning_rate = lr)\n",
        "  if optimizer_type == 'AdamW':\n",
        "    optimizer = AdamW(learning_rate = lr)\n",
        "  model.compile(loss='binary_crossentropy', optimizer=optimizer, metrics = ['accuracy'])\n",
        "  return model\n",
        "####################################################################################################\n",
        "def TactileNet(nb_classes=2, Chans = 19, Samples = 512, kernLength = 16,\n",
        "               F1 = 64, D=4, dropoutRate = 0.5,dropoutType = 'Dropout',\n",
        "               optimizer_type = 'Adam', lr=0.001, **kwargs):\n",
        "\n",
        "\n",
        "  if dropoutType == 'SpatialDropout2D':\n",
        "      dropoutType = SpatialDropout2D\n",
        "  elif dropoutType == 'Dropout':\n",
        "      dropoutType = Dropout\n",
        "  else:\n",
        "      raise ValueError('dropoutType must be one of SpatialDropout2D '\n",
        "                        'or Dropout, passed as a string.')\n",
        "  #EEGNet alike part\n",
        "  input1       = Input(shape = (1, Chans, Samples))\n",
        "  block1       = Conv2D(F1, (1, kernLength), padding = 'same',\n",
        "                                  input_shape = (1, Chans, Samples),\n",
        "                                  use_bias = False)(input1)\n",
        "  block1       = BatchNormalization(axis = 1 ,trainable = True)(block1)\n",
        "  block1       = DepthwiseConv2D((Chans, 1), use_bias = False, \n",
        "                                  depth_multiplier = D,\n",
        "                                  depthwise_constraint = max_norm(1.))(block1)\n",
        "  block1       = BatchNormalization( axis = 1, trainable = True)(block1)\n",
        "  block1       = Activation('elu')(block1)\n",
        "  block1       = AveragePooling2D((1, 2))(block1)\n",
        "  block1       = dropoutType(dropoutRate)(block1)\n",
        "\n",
        "  ###############################################\n",
        "  #first tower\n",
        "  sub_block1   = Conv2D(64, (1, 1), padding = 'same',use_bias = False)(block1)\n",
        "  sub_block1   = SeparableConv2D(128, (1, 128), padding = 'same',use_bias = False)(sub_block1)\n",
        "  sub_block1   = AveragePooling2D((1, 2), padding = 'same')(sub_block1)\n",
        "  #second tower\n",
        "  sub_block2   = Conv2D(16, (1, 1), padding = 'same',use_bias = False)(block1)\n",
        "  sub_block2   = SeparableConv2D(32, (1, 256), padding = 'same',use_bias = False)(sub_block2)\n",
        "  sub_block2  = AveragePooling2D((1, 2), padding = 'same')(sub_block2)\n",
        "  #third tower\n",
        "  sub_block3   = Conv2D(64, (1, 1), padding = 'same', strides=(1,2), use_bias = False)(block1)\n",
        "  #forth tower\n",
        "  sub_block4   = AveragePooling2D((1, 2), padding = 'same')(block1)\n",
        "  sub_block4   = Conv2D(32, (1, 1), padding = 'same',use_bias = False)(sub_block4)\n",
        "  #concatenation\n",
        "  concat       = concatenate([sub_block1, sub_block2, sub_block4, sub_block3],axis=1)\n",
        "  \n",
        "  #last tower\n",
        "  block2       = BatchNormalization( axis = 1, trainable = True)(concat)\n",
        "  block2       = Activation('elu')(block2)\n",
        "  #SENEt block\n",
        "  squeeze1     = GlobalAveragePooling2D()(block2)\n",
        "  excitation1  = Dense(16, activation='relu')(squeeze1)\n",
        "  excitation1  = Dense(256, activation='sigmoid')(excitation1)\n",
        "  block2       = Permute(dims=(2,3,1))(block2)\n",
        "  excitation1  = multiply([block2, excitation1])\n",
        "  excitation1  = Permute(dims=(3,1,2))(excitation1)\n",
        "\n",
        "  block2       = SeparableConv2D(256, (1, 64), padding = 'same',use_bias = False)(excitation1)\n",
        "  block2       = BatchNormalization( axis = 1, trainable = True)(block2)\n",
        "  block2       = Activation('elu')(block2)\n",
        "  #SENEt block\n",
        "  squeeze2     = GlobalAveragePooling2D()(block2)\n",
        "  excitation2  = Dense(16, activation='relu')(squeeze2)\n",
        "  excitation2  = Dense(256, activation='sigmoid')(excitation2)\n",
        "  block2       = Permute(dims=(2,3,1))(block2)\n",
        "  excitation2  = multiply([block2, excitation2])\n",
        "  excitation2  = Permute(dims=(3,1,2))(excitation2)\n",
        "\n",
        "  block2       = dropoutType(dropoutRate)(excitation2)\n",
        "\n",
        "  GB           = GlobalAveragePooling2D()(block2)\n",
        "  dense        = Dense(nb_classes, name = 'dense')(GB)\n",
        "  softmax      = Activation('softmax', name = 'softmax')(dense)\n",
        "  if optimizer_type == 'Adam':\n",
        "    optimizer = Adam(learning_rate = lr)\n",
        "  if optimizer_type == 'Adamax':\n",
        "    optimizer = Adamax(learning_rate = lr)\n",
        "  if optimizer_type == 'AdamW':\n",
        "    optimizer = AdamW(learning_rate = lr)\n",
        "  model.compile(loss='binary_crossentropy', optimizer=optimizer, metrics = ['accuracy'])\n",
        "  return model\n",
        "\n",
        "  return Model(inputs=input1, outputs=softmax)\n"
      ],
      "metadata": {
        "id": "HwIQOfn9qWgB"
      },
      "execution_count": null,
      "outputs": []
    },
    {
      "cell_type": "markdown",
      "source": [
        "**Calculating the accuracy and F-measure for each subject**"
      ],
      "metadata": {
        "id": "snjDtnyiBG2o"
      }
    },
    {
      "cell_type": "code",
      "source": [
        "def subject_classification(y_true, y_pred, group, calculate_type = 'max_vote'):  \n",
        "  \"\"\"\n",
        "  y_pred should be the output of 'model.predict' using 2 nodes in the dense layer and softmax activation.\n",
        "  y_true should be in categorical mode. \n",
        "  \"\"\"\n",
        "  from pyriemann.utils.viz import plot_confusion_matrix\n",
        "  from sklearn.metrics import fbeta_score\n",
        "\n",
        "  #Categorical to normal labeling\n",
        "  y_true = y_true.argmax(axis=-1)\n",
        "  probability = np.array(y_pred)\n",
        "  prediction = y_pred.argmax(axis = -1)\n",
        "  max_vote = []\n",
        "  subject_traget = []\n",
        "  j = 0\n",
        "  unique, counts = np.unique(group, return_counts=True)\n",
        "  mean_ = np.zeros([len(unique),2], dtype='float32')\n",
        "  for i in range(len(unique)):\n",
        "    for k in range(2):\n",
        "      mean_[i][k] = np.mean(probability[j:j+counts[i]-1,k])\n",
        "    c = np.bincount(prediction[j:j+counts[i]-1])\n",
        "    max_vote.append(np.argmax(c))\n",
        "    subject_traget.append(y_true[j])\n",
        "    j = j + counts[i]\n",
        "  mean_            = mean_.argmax(axis = -1)\n",
        "  max_vote         = np.array(max_vote)\n",
        "  subject_traget   = np.array(subject_traget)\n",
        "  f2_max_vote      = fbeta_score(subject_traget, max_vote, beta=0.5, average='binary')\n",
        "  f2_mean          = fbeta_score(subject_traget, mean_, beta=0.5, average='binary')\n",
        "  acc_max_vote     = np.mean(max_vote == subject_traget)\n",
        "  acc_mean         = np.mean(mean_ == subject_traget)\n",
        "  if calculate_type == 'max_vote':\n",
        "    names          = ['ADHD','Control']\n",
        "    plt.figure(0)\n",
        "    plot_confusion_matrix(subject_traget, max_vote, names, title = 'Max Vote Type')\n",
        "    return acc_max_vote, f2_max_vote\n",
        "  elif calculate_type == 'mean':\n",
        "    names        = ['ADHD','Control']\n",
        "    plt.figure(0)\n",
        "    plot_confusion_matrix(subject_traget, mean_, names, title = 'Mean Type')\n",
        "    return acc_mean, f2_mean\n",
        "  else:\n",
        "    raise ValueError('You have NOT entered an accurate type!')"
      ],
      "metadata": {
        "id": "MNQjhnu5jstz"
      },
      "execution_count": null,
      "outputs": []
    },
    {
      "cell_type": "code",
      "source": [
        "def sample_classification(y_true, y_pred):\n",
        "  \"\"\"\n",
        "  y_pred should be the output of 'model.predict' using 2 nodes in the dense layer and softmax activation.\n",
        "  y_true should be in categorical mode. \n",
        "  \"\"\"\n",
        "  preds       = y_pred.argmax(axis = -1)  \n",
        "  acc         = np.mean(preds == y_true.argmax(axis=-1))\n",
        "  f2 = fbeta_score(y_true.argmax(axis=-1), preds, beta=0.5, average='binary') \n",
        "  return acc, f2\n"
      ],
      "metadata": {
        "id": "zF72InbpjtME"
      },
      "execution_count": null,
      "outputs": []
    },
    {
      "cell_type": "markdown",
      "source": [
        "**Calculating the class-weight**"
      ],
      "metadata": {
        "id": "omizpXBCBIh_"
      }
    },
    {
      "cell_type": "code",
      "source": [
        "def ClassWeightSoftmax(y):\n",
        "  class_weights = compute_class_weight(class_weight = \"balanced\",classes = np.unique(Y_train), y = Y_train)\n",
        "  class_weights = dict(zip(np.unique(Y_train), class_weights))\n",
        "  class_weights[0] = int(10*round(class_weights[0],1))\n",
        "  class_weights[1] = int(10*round(class_weights[1],1))\n",
        "  class_weight = [{0: 1, 1: class_weights[0]}, {0: 1, 1: class_weights[1]}]\n",
        "  print(\"The Class Weight is:\",class_weight)\n",
        "  return class_weight"
      ],
      "metadata": {
        "id": "JPYdvEF7jwrz"
      },
      "execution_count": null,
      "outputs": []
    },
    {
      "cell_type": "code",
      "source": [
        "# Loading the data\n",
        "import numpy as np\n",
        "X = np.load('X.npy')\n",
        "Y = np.load('Y.npy')\n",
        "\n",
        "print(\"X Shape:\",X.shape)\n",
        "print(\"Y shape:\",Y.shape)\n",
        "print(Y)\n",
        "import scipy.io\n",
        "SegmentPerSubject = scipy.io.loadmat('SegmentPerSubject', mat_dtype=True)\n",
        "SegmentPerSubject = SegmentPerSubject['SegmentPerSubject']\n",
        "SegmentPerSubject = np.array(SegmentPerSubject)\n",
        "SegmentPerSubject = SegmentPerSubject.transpose()\n",
        "print(\"shape Segments:\", SegmentPerSubject.shape)\n",
        "\n",
        "Group =[]\n",
        "for i in range(SegmentPerSubject.shape[0]):\n",
        "  for j in range(int(SegmentPerSubject[i])):\n",
        "    Group.append(i)\n",
        "Group = np.array(Group)\n",
        "Group = np.expand_dims(Group, axis=1)\n",
        "print(Group)\n",
        "print(\"Group shape is:\",Group.shape)\n",
        "\n",
        "# Data Preparation(Spliting the data to 10 fold and pich one of them as the test se)\n",
        "group_kfold1 = StratifiedGroupKFold(n_splits=10, shuffle=True, random_state=2023)\n",
        "del X,Y,d_test, split_test, Group, group_kfold1\n",
        "# Converting the labels to categirical\n",
        "Y_test  = np.expand_dims(Y_test,axis=1)\n",
        "Y_test  = np_utils.to_categorical(Y_test)\n",
        "Y_train  = np.expand_dims(Y_train,axis=1)\n",
        "Y_train  = np_utils.to_categorical(Y_train)\n",
        "# initiating the model\n",
        "model = TactileNet()\n",
        "# Fitting the model\n",
        "fit  = model.fit(X_train, Y_train,verbose = 2,shuffle=True, epochs=20,batch_size=32,validation_data=(X_test, Y_test))\n",
        "### Calculating Sample accuracy ###\n",
        "test_predict = model.predict(X_test)\n",
        "test_sub_acc,test_sub_f2 = subject_classification(Y_test, test_predict, Group_test, calculate_type = 'max_vote')\n",
        "test_sam_acc,test_sam_f2 = sample_classification(Y_test, test_predict)\n",
        "################################################\n",
        "print(\"test_sub_acc\",test_sub_acc)\n",
        "print(\"test_sub_f2\",test_sub_f2)\n",
        "print(\"test_sam_acc\",test_sam_acc)\n",
        "print(\"test_sam_f2\",test_sam_f2)\n",
        "###############################################\n",
        "train_loss, train_acc = model.evaluate(X_train,Y_train)\n",
        "test_loss, test_acc = model.evaluate(X_test, Y_test)"
      ],
      "metadata": {
        "colab": {
          "base_uri": "https://localhost:8080/",
          "height": 1000
        },
        "id": "aHSGgFUTtO89",
        "outputId": "521f4be7-4b47-41a7-add0-e445e7e8aadf"
      },
      "execution_count": null,
      "outputs": [
        {
          "output_type": "stream",
          "name": "stdout",
          "text": [
            "X Shape: (4173, 1, 19, 512)\n",
            "Y shape: (4173,)\n",
            "[0 0 0 ... 1 1 1]\n",
            "shape Segments: (121, 1)\n",
            "[[  0]\n",
            " [  0]\n",
            " [  0]\n",
            " ...\n",
            " [120]\n",
            " [120]\n",
            " [120]]\n",
            "Group shape is: (4173, 1)\n",
            "Epoch 1/20\n",
            "116/116 - 6s - loss: 0.0289 - accuracy: 0.9911 - val_loss: 0.0559 - val_accuracy: 0.9707 - 6s/epoch - 52ms/step\n",
            "Epoch 2/20\n",
            "116/116 - 4s - loss: 0.0094 - accuracy: 0.9959 - val_loss: 0.0120 - val_accuracy: 0.9958 - 4s/epoch - 35ms/step\n",
            "Epoch 3/20\n",
            "116/116 - 4s - loss: 0.0254 - accuracy: 0.9932 - val_loss: 0.0051 - val_accuracy: 0.9979 - 4s/epoch - 35ms/step\n",
            "Epoch 4/20\n",
            "116/116 - 4s - loss: 0.0185 - accuracy: 0.9932 - val_loss: 0.0213 - val_accuracy: 0.9937 - 4s/epoch - 33ms/step\n",
            "Epoch 5/20\n",
            "116/116 - 4s - loss: 0.0107 - accuracy: 0.9976 - val_loss: 0.0013 - val_accuracy: 1.0000 - 4s/epoch - 32ms/step\n",
            "Epoch 6/20\n",
            "116/116 - 4s - loss: 0.0107 - accuracy: 0.9957 - val_loss: 0.0217 - val_accuracy: 0.9916 - 4s/epoch - 32ms/step\n",
            "Epoch 7/20\n",
            "116/116 - 4s - loss: 0.0085 - accuracy: 0.9962 - val_loss: 0.0298 - val_accuracy: 0.9874 - 4s/epoch - 31ms/step\n",
            "Epoch 8/20\n",
            "116/116 - 4s - loss: 0.0032 - accuracy: 0.9986 - val_loss: 0.0149 - val_accuracy: 0.9958 - 4s/epoch - 31ms/step\n",
            "Epoch 9/20\n",
            "116/116 - 4s - loss: 0.0013 - accuracy: 0.9995 - val_loss: 0.0051 - val_accuracy: 0.9979 - 4s/epoch - 31ms/step\n",
            "Epoch 10/20\n",
            "116/116 - 4s - loss: 0.0122 - accuracy: 0.9957 - val_loss: 0.2840 - val_accuracy: 0.9310 - 4s/epoch - 31ms/step\n",
            "Epoch 11/20\n",
            "116/116 - 4s - loss: 0.0089 - accuracy: 0.9962 - val_loss: 0.0037 - val_accuracy: 0.9979 - 4s/epoch - 32ms/step\n",
            "Epoch 12/20\n",
            "116/116 - 4s - loss: 0.0185 - accuracy: 0.9949 - val_loss: 0.1135 - val_accuracy: 0.9519 - 4s/epoch - 32ms/step\n",
            "Epoch 13/20\n",
            "116/116 - 4s - loss: 0.0189 - accuracy: 0.9938 - val_loss: 0.1390 - val_accuracy: 0.9372 - 4s/epoch - 32ms/step\n",
            "Epoch 14/20\n",
            "116/116 - 4s - loss: 0.0072 - accuracy: 0.9984 - val_loss: 0.0038 - val_accuracy: 0.9979 - 4s/epoch - 32ms/step\n",
            "Epoch 15/20\n",
            "116/116 - 4s - loss: 0.0152 - accuracy: 0.9957 - val_loss: 1.1822 - val_accuracy: 0.6590 - 4s/epoch - 32ms/step\n",
            "Epoch 16/20\n",
            "116/116 - 4s - loss: 0.0043 - accuracy: 0.9981 - val_loss: 0.0447 - val_accuracy: 0.9833 - 4s/epoch - 32ms/step\n",
            "Epoch 17/20\n",
            "116/116 - 4s - loss: 0.0041 - accuracy: 0.9989 - val_loss: 0.0034 - val_accuracy: 1.0000 - 4s/epoch - 33ms/step\n",
            "Epoch 18/20\n",
            "116/116 - 4s - loss: 0.0149 - accuracy: 0.9943 - val_loss: 5.2036e-04 - val_accuracy: 1.0000 - 4s/epoch - 32ms/step\n",
            "Epoch 19/20\n",
            "116/116 - 4s - loss: 0.0033 - accuracy: 0.9989 - val_loss: 0.0016 - val_accuracy: 1.0000 - 4s/epoch - 32ms/step\n",
            "Epoch 20/20\n",
            "116/116 - 4s - loss: 0.0013 - accuracy: 0.9997 - val_loss: 0.0060 - val_accuracy: 0.9979 - 4s/epoch - 33ms/step\n",
            "15/15 [==============================] - 0s 6ms/step\n",
            "test_sub_acc 1.0\n",
            "test_sub_f2 1.0\n",
            "test_sam_acc 0.997907949790795\n",
            "test_sam_f2 0.9958071278825996\n"
          ]
        },
        {
          "output_type": "display_data",
          "data": {
            "text/plain": [
              "<Figure size 432x288 with 2 Axes>"
            ],
            "image/png": "[encoded data removed]"
          },
          "metadata": {
            "needs_background": "light"
          }
        }
      ]
    }
  ]
}